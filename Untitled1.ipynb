{
 "cells": [
  {
   "cell_type": "code",
   "execution_count": 1,
   "metadata": {},
   "outputs": [],
   "source": [
    "import ipywidgets as widgets"
   ]
  },
  {
   "cell_type": "code",
   "execution_count": 2,
   "metadata": {},
   "outputs": [
    {
     "data": {
      "text/plain": [
       "('Untitled1', 'make-gui', 'README', 'Pipfile', '.git', '.vscode', 'Pipfile')"
      ]
     },
     "execution_count": 2,
     "metadata": {},
     "output_type": "execute_result"
    }
   ],
   "source": [
    "from ipywidgets import AppLayout, Button, Layout\n",
    "\n",
    "from pathlib import Path\n",
    "\n",
    "tuple(i.stem for i in Path(\".\").iterdir())"
   ]
  },
  {
   "cell_type": "code",
   "execution_count": 3,
   "metadata": {},
   "outputs": [],
   "source": [
    "from ipywidgets import GridspecLayout\n",
    "\n",
    "grid = GridspecLayout(1, 3)"
   ]
  },
  {
   "cell_type": "code",
   "execution_count": 4,
   "metadata": {},
   "outputs": [],
   "source": [
    "select = widgets.Select(\n",
    "    options=tuple((i.stem+\"/\" if i.is_dir() else i.stem) \n",
    "                          for i \n",
    "                          in Path(\".\").iterdir()),\n",
    "    disabled=False,\n",
    "    rows=10\n",
    ")\n",
    "\n",
    "grid[:,0] = select"
   ]
  },
  {
   "cell_type": "markdown",
   "metadata": {},
   "source": [
    "挙動として正しいのは\n",
    "\n",
    "* 選択した際にそれ以下のセレクタを初期化する\n",
    "\n",
    "なので、セレクタのリストを持っていて、それを逐次描画するという挙動がいいのかもしれない\n",
    "現在のセレクタのIDみたいなものを持っておいて、それの子セレクタは何かって部分を保持しておきつつ、親セレクタが変更されたら一斉にそれを破棄するのがいいのかも\n",
    "\n",
    "セレクタを新たに代入すると描画の処理によって暗転するような感じがするので、セレクタの要素を変更するといいのかもね"
   ]
  },
  {
   "cell_type": "code",
   "execution_count": 12,
   "metadata": {},
   "outputs": [],
   "source": [
    "grid[:,1] = widgets.Select(\n",
    "    options=tuple((i.stem+\"/\" if i.is_dir() else i.stem) \n",
    "                          for i \n",
    "                          in Path(\".\").iterdir()),\n",
    "    disabled=False,\n",
    "    rows=10\n",
    ")"
   ]
  },
  {
   "cell_type": "code",
   "execution_count": 13,
   "metadata": {},
   "outputs": [],
   "source": [
    "def update_grid(change):\n",
    "    next_path = Path(\".\")/select.get_interact_value()\n",
    "    if next_path.is_dir():\n",
    "        grid[:,1].options=tuple(\n",
    "            (i.stem+\"/\" if i.is_dir() else i.stem) \n",
    "            for i \n",
    "            in next_path.iterdir())\n",
    "    else:\n",
    "        grid[:,1].options=[\"\"]\n",
    "    \n",
    "select.observe(\n",
    "    update_grid\n",
    ")"
   ]
  },
  {
   "cell_type": "code",
   "execution_count": 14,
   "metadata": {},
   "outputs": [
    {
     "data": {
      "application/vnd.jupyter.widget-view+json": {
       "model_id": "d51412ce2a574f28b88414d0b3c7ca4f",
       "version_major": 2,
       "version_minor": 0
      },
      "text/plain": [
       "GridspecLayout(children=(Select(layout=Layout(grid_area='widget001'), options=('Untitled1', 'make-gui', 'READM…"
      ]
     },
     "metadata": {},
     "output_type": "display_data"
    }
   ],
   "source": [
    "grid"
   ]
  },
  {
   "cell_type": "code",
   "execution_count": null,
   "metadata": {},
   "outputs": [],
   "source": []
  },
  {
   "cell_type": "code",
   "execution_count": null,
   "metadata": {},
   "outputs": [],
   "source": []
  }
 ],
 "metadata": {
  "interpreter": {
   "hash": "acb353badce8f3b88422b621d26193e3fb128a689814bfa2852f965fef069042"
  },
  "kernelspec": {
   "display_name": "Python 3.9.5 64-bit ('ipywidget-ws-eZm2VUjF': pipenv)",
   "name": "python3"
  },
  "language_info": {
   "codemirror_mode": {
    "name": "ipython",
    "version": 3
   },
   "file_extension": ".py",
   "mimetype": "text/x-python",
   "name": "python",
   "nbconvert_exporter": "python",
   "pygments_lexer": "ipython3",
   "version": "3.9.5"
  }
 },
 "nbformat": 4,
 "nbformat_minor": 4
}
