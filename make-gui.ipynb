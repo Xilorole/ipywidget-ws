{
 "cells": [
  {
   "cell_type": "code",
   "execution_count": 1,
   "metadata": {},
   "outputs": [],
   "source": [
    "import ipywidgets\n",
    "from pathlib import Path"
   ]
  },
  {
   "cell_type": "code",
   "execution_count": 2,
   "metadata": {},
   "outputs": [],
   "source": [
    "# config \n",
    "bar_width = 150\n",
    "title_height = 100\n",
    "favorite_folders = [\"/Users/niwn/ipywidget-ws/\",\"/Users/niwn/Downloads/\"]"
   ]
  },
  {
   "cell_type": "code",
   "execution_count": 3,
   "metadata": {},
   "outputs": [
    {
     "data": {
      "application/vnd.jupyter.widget-view+json": {
       "model_id": "a2edf4924891407e83cc1b41f2dcf9d0",
       "version_major": 2,
       "version_minor": 0
      },
      "text/plain": [
       "Select(options=('a', 'b', 'c'), value='a')"
      ]
     },
     "metadata": {},
     "output_type": "display_data"
    }
   ],
   "source": [
    "ipywidgets.Select(\n",
    "    options=[\"a\",\"b\",\"c\"]\n",
    ")"
   ]
  },
  {
   "cell_type": "code",
   "execution_count": 4,
   "metadata": {},
   "outputs": [],
   "source": [
    "# Utils widgets\n",
    "from ipywidgets import Button, Layout, jslink, IntText, IntSlider\n",
    "\n",
    "def create_expanded_button(description, button_style):\n",
    "    return Button(description=description, button_style=button_style, layout=Layout(height='auto', width='auto'))\n",
    "\n",
    "top_left_button = create_expanded_button(\"Top left\", 'info')\n",
    "top_right_button = create_expanded_button(\"Top right\", 'success')\n",
    "bottom_left_button = create_expanded_button(\"Bottom left\", 'danger')\n",
    "bottom_right_button = create_expanded_button(\"Bottom right\", 'warning')\n",
    "\n",
    "top_left_text = IntText(description='Top left', layout=Layout(width='auto', height='auto'))\n",
    "top_right_text = IntText(description='Top right', layout=Layout(width='auto', height='auto'))\n",
    "bottom_left_slider = IntSlider(description='Bottom left', layout=Layout(width='auto', height='auto'))\n",
    "bottom_right_slider = IntSlider(description='Bottom right', layout=Layout(width='auto', height='auto'))"
   ]
  },
  {
   "cell_type": "code",
   "execution_count": 5,
   "metadata": {},
   "outputs": [
    {
     "data": {
      "application/vnd.jupyter.widget-view+json": {
       "model_id": "e80fe94aa3cf462f8e2db31d303711a5",
       "version_major": 2,
       "version_minor": 0
      },
      "text/plain": [
       "GridspecLayout(children=(Button(button_style='warning', description='Button 0 - 0', layout=Layout(grid_area='w…"
      ]
     },
     "metadata": {},
     "output_type": "display_data"
    }
   ],
   "source": [
    "from ipywidgets import GridspecLayout\n",
    "\n",
    "grid = GridspecLayout(4, 3)\n",
    "\n",
    "for i in range(4):\n",
    "    for j in range(3):\n",
    "        grid[i, j] = create_expanded_button('Button {} - {}'.format(i, j), 'warning')\n",
    "grid"
   ]
  },
  {
   "cell_type": "code",
   "execution_count": 6,
   "metadata": {},
   "outputs": [],
   "source": [
    "def create_expanded_button(description, button_style):\n",
    "    return Button(description=description, button_style=button_style, layout=Layout(height='auto', width='auto'))"
   ]
  },
  {
   "cell_type": "code",
   "execution_count": 7,
   "metadata": {},
   "outputs": [],
   "source": [
    "from ipywidgets import Layout, Button, Box, HBox, VBox, Select\n",
    "from typing import Union"
   ]
  },
  {
   "cell_type": "code",
   "execution_count": 8,
   "metadata": {},
   "outputs": [],
   "source": [
    "from ipywidgets import Layout, Button, VBox, Label"
   ]
  },
  {
   "cell_type": "code",
   "execution_count": 9,
   "metadata": {},
   "outputs": [],
   "source": [
    "from traitlets.utils.bunch import Bunch\n",
    "from ipywidgets import Output\n",
    "from IPython.display import display"
   ]
  },
  {
   "cell_type": "code",
   "execution_count": 10,
   "metadata": {},
   "outputs": [
    {
     "data": {
      "application/vnd.jupyter.widget-view+json": {
       "model_id": "ee4d54b14f694cfa893ee880def6fa21",
       "version_major": 2,
       "version_minor": 0
      },
      "text/plain": [
       "Select(options=('Untitled1', 'make-gui', 'README', 'Pipfile', '.git/', '.vscode/', 'Pipfile'), value='Untitled…"
      ]
     },
     "metadata": {},
     "output_type": "display_data"
    }
   ],
   "source": [
    "def generate_selector(folder_path:Union[Path,str], callback = lambda :None,  **kwargs) -> Select:\n",
    "    \"\"\"\"\"\"\n",
    "    options = [\n",
    "        path.stem + (\"/\" if path.is_dir() else \"\")\n",
    "        for path in \n",
    "        Path(folder_path).iterdir()\n",
    "    ]\n",
    "    select = Select(\n",
    "        options = options,\n",
    "        **kwargs\n",
    "    )\n",
    "    select.observe(callback)\n",
    "    return select\n",
    "generate_selector(\".\")"
   ]
  },
  {
   "cell_type": "code",
   "execution_count": 14,
   "metadata": {},
   "outputs": [],
   "source": [
    "from pprint import pprint"
   ]
  },
  {
   "cell_type": "code",
   "execution_count": 19,
   "metadata": {},
   "outputs": [
    {
     "name": "stdout",
     "output_type": "stream",
     "text": [
      ".\n"
     ]
    },
    {
     "data": {
      "application/vnd.jupyter.widget-view+json": {
       "model_id": "3c6484b595444969af8f8e410c60291c",
       "version_major": 2,
       "version_minor": 0
      },
      "text/plain": [
       "Explorer(children=(VBox(children=(Button(button_style='info', description='ipywidget-ws/', layout=Layout(heigh…"
      ]
     },
     "metadata": {},
     "output_type": "display_data"
    }
   ],
   "source": [
    "class SelectHandler():\n",
    "    pass\n",
    "\n",
    "class Explorer(HBox):\n",
    "    def __init__(self):\n",
    "        sidebar = VBox(\n",
    "            [create_expanded_button(Path(folder_path).stem+\"/\",\"info\") for folder_path in favorite_folders],\n",
    "            layout=Layout(width=\"150px\", display = 'flex', align_items = 'stretch',flex_flow = 'column'),\n",
    "            height=\"100%\")\n",
    "        # title_box = Button(description=\"title_box\", button_style=\"warning\", layout=Layout(height='80px', width='auto'))\n",
    "        title_box = Output(layout=Layout(border= '1px solid black',height=\"100px\"))\n",
    "        print(\".\")\n",
    "\n",
    "        @title_box.capture()\n",
    "        def on_value_change(change: Bunch) -> None:\n",
    "            # 値が変更されたイベントを扱う\n",
    "            # label -> value -> indexの順番に変化する\n",
    "            if change['name'] == 'value':\n",
    "                title_box.clear_output()\n",
    "                # 変更前と変更後の値を出力する\n",
    "                old_value = change['old']\n",
    "                new_value = change['new']\n",
    "                print(f'value changed: {old_value} -> {new_value}')\n",
    "                pprint(f'value changed: {change}')\n",
    "\n",
    "        # folder explorerの部分\n",
    "        item_layout = Layout(min_width=\"150px\",width=\"150px\")\n",
    "        items = [generate_selector(\".\", callback = on_value_change, rows=12, layout=item_layout) for i in range(15)]\n",
    "        box_layout = Layout(overflow='scroll hidden',\n",
    "            width='auto',\n",
    "            height='100%',\n",
    "            flex_flow='row',\n",
    "            display='flex')\n",
    "        carousel = Box(children=items, layout=box_layout)\n",
    "        folder_content = VBox([carousel],layout=Layout(height='100%', width='100%'))\n",
    "\n",
    "        right_box = VBox([title_box,folder_content],layout=Layout(width=\"100%\", display = 'flex', align_items = 'stretch',flex_flow = 'column',height=\"100%\"))\n",
    "\n",
    "        super(HBox, self).__init__([sidebar,right_box],layout=Layout(width=\"100%\", display = 'flex', align_items = 'stretch',height=\"300px\"))\n",
    "\n",
    "    def update_carousel(self):\n",
    "        pass\n",
    "\n",
    "explorer = Explorer()\n",
    "explorer"
   ]
  },
  {
   "cell_type": "code",
   "execution_count": null,
   "metadata": {},
   "outputs": [],
   "source": []
  },
  {
   "cell_type": "code",
   "execution_count": null,
   "metadata": {},
   "outputs": [],
   "source": []
  }
 ],
 "metadata": {
  "interpreter": {
   "hash": "acb353badce8f3b88422b621d26193e3fb128a689814bfa2852f965fef069042"
  },
  "kernelspec": {
   "display_name": "Python 3.9.5 64-bit ('ipywidget-ws-eZm2VUjF': pipenv)",
   "name": "python3"
  },
  "language_info": {
   "codemirror_mode": {
    "name": "ipython",
    "version": 3
   },
   "file_extension": ".py",
   "mimetype": "text/x-python",
   "name": "python",
   "nbconvert_exporter": "python",
   "pygments_lexer": "ipython3",
   "version": "3.9.5"
  },
  "orig_nbformat": 4
 },
 "nbformat": 4,
 "nbformat_minor": 2
}
