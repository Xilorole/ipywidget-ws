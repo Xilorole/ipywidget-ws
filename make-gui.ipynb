{
 "cells": [
  {
   "cell_type": "code",
   "execution_count": 1,
   "metadata": {},
   "outputs": [],
   "source": [
    "import ipywidgets\n",
    "from pathlib import Path"
   ]
  },
  {
   "cell_type": "code",
   "execution_count": 2,
   "metadata": {},
   "outputs": [],
   "source": [
    "# config \n",
    "bar_width = 150\n",
    "title_height = 100\n",
    "favorite_folders = [\"/Users/niwn/ipywidget-ws/\",\"/Users/niwn/Downloads/\"]"
   ]
  },
  {
   "cell_type": "code",
   "execution_count": 3,
   "metadata": {},
   "outputs": [
    {
     "data": {
      "application/vnd.jupyter.widget-view+json": {
       "model_id": "3444c39f110c4ca2a5ded9263287cbf9",
       "version_major": 2,
       "version_minor": 0
      },
      "text/plain": [
       "Select(options=('a', 'b', 'c'), value='a')"
      ]
     },
     "metadata": {},
     "output_type": "display_data"
    }
   ],
   "source": [
    "ipywidgets.Select(\n",
    "    options=[\"a\",\"b\",\"c\"]\n",
    ")"
   ]
  },
  {
   "cell_type": "code",
   "execution_count": 15,
   "metadata": {},
   "outputs": [],
   "source": [
    "# Utils widgets\n",
    "from ipywidgets import Button, Layout, jslink, IntText, IntSlider\n",
    "from ipywidgets import GridspecLayout\n",
    "\n",
    "def create_expanded_button(description, button_style):\n",
    "    return Button(description=description, button_style=button_style, layout=Layout(height='auto', width='auto'))\n",
    "\n",
    "top_left_button = create_expanded_button(\"Top left\", 'info')\n",
    "top_right_button = create_expanded_button(\"Top right\", 'success')\n",
    "bottom_left_button = create_expanded_button(\"Bottom left\", 'danger')\n",
    "bottom_right_button = create_expanded_button(\"Bottom right\", 'warning')\n",
    "\n",
    "top_left_text = IntText(description='Top left', layout=Layout(width='auto', height='auto'))\n",
    "top_right_text = IntText(description='Top right', layout=Layout(width='auto', height='auto'))\n",
    "bottom_left_slider = IntSlider(description='Bottom left', layout=Layout(width='auto', height='auto'))\n",
    "bottom_right_slider = IntSlider(description='Bottom right', layout=Layout(width='auto', height='auto'))"
   ]
  },
  {
   "cell_type": "code",
   "execution_count": null,
   "metadata": {},
   "outputs": [],
   "source": []
  },
  {
   "cell_type": "code",
   "execution_count": 16,
   "metadata": {},
   "outputs": [],
   "source": [
    "def create_expanded_button(description, button_style):\n",
    "    return Button(description=description, button_style=button_style, layout=Layout(height='auto', width='auto'))"
   ]
  },
  {
   "cell_type": "code",
   "execution_count": 17,
   "metadata": {},
   "outputs": [],
   "source": [
    "from ipywidgets import Layout, Button, Box, HBox, VBox, Select\n",
    "from typing import Union"
   ]
  },
  {
   "cell_type": "code",
   "execution_count": 18,
   "metadata": {},
   "outputs": [],
   "source": [
    "from ipywidgets import Layout, Button, VBox, Label"
   ]
  },
  {
   "cell_type": "code",
   "execution_count": 24,
   "metadata": {},
   "outputs": [],
   "source": [
    "from traitlets.utils.bunch import Bunch\n",
    "import ipywidgets as widgets\n",
    "from ipywidgets import Output\n",
    "from IPython.display import display"
   ]
  },
  {
   "cell_type": "code",
   "execution_count": 155,
   "metadata": {},
   "outputs": [
    {
     "data": {
      "application/vnd.jupyter.widget-view+json": {
       "model_id": "b2f7ca6f56fa4d26973f98ddd510ca27",
       "version_major": 2,
       "version_minor": 0
      },
      "text/plain": [
       "Select(options=('tab_explorer', 'Untitled1', 'make-gui', 'Untitled-1', 'README', 'Pipfile', '.git/', '.vscode/…"
      ]
     },
     "metadata": {},
     "output_type": "display_data"
    }
   ],
   "source": [
    "def generate_selector(folder_path:Union[Path,str], callback = lambda :None,  **kwargs) -> Select:\n",
    "    \"\"\"\"\"\"\n",
    "    if Path(folder_path).is_dir():\n",
    "        options = [\n",
    "            path.stem + (\"/\" if path.is_dir() else \"\")\n",
    "            for path in \n",
    "            Path(folder_path).iterdir()\n",
    "        ]\n",
    "    else:\n",
    "        options=[\"\"]\n",
    "    select = Select(\n",
    "        options = options,\n",
    "        **kwargs\n",
    "    )\n",
    "    select.observe(callback)\n",
    "    return select\n",
    "generate_selector(\".\")"
   ]
  },
  {
   "cell_type": "code",
   "execution_count": 156,
   "metadata": {},
   "outputs": [],
   "source": [
    "from pprint import pprint"
   ]
  },
  {
   "cell_type": "code",
   "execution_count": 157,
   "metadata": {},
   "outputs": [],
   "source": [
    "# ハンドラを変更することで対応するようにしたい\n",
    "# on_value_changeにステータスIDかなんかを渡す"
   ]
  },
  {
   "cell_type": "code",
   "execution_count": 158,
   "metadata": {},
   "outputs": [],
   "source": [
    "\n",
    "from functools import partial\n",
    "def list_dir(path)->tuple:\n",
    "    if Path(path).is_dir():\n",
    "        return tuple(\n",
    "            i.name+\"/\" if i.is_dir() else i.name\n",
    "            for i \n",
    "            in Path(path).iterdir()\n",
    "        )\n",
    "    else:\n",
    "        return [\"\"]\n",
    "         \n",
    "def generate_select(path):\n",
    "    return widgets.Select(\n",
    "        options=list_dir(path),\n",
    "        disabled=False,\n",
    "        rows=10,\n",
    "        layout = Layout(min_width=\"150px\",width=\"150px\")\n",
    "    )\n",
    "\n",
    "paths = [\".\", \".git\", \".git/info\"]\n",
    "curdir_dict = {i:Path(path) for i,path in enumerate(paths)}\n",
    "select_objects = list()\n",
    "for i, path in enumerate(paths):\n",
    "    select_objects.append(generate_select(path))\n",
    "\n",
    "output = widgets.Output(layour={'border': '1px solid black'})\n",
    "\n",
    "@output.capture(clear_output=True)\n",
    "def update_child(changes, root_index): # changesが第一変数で入ってくることに気づかず苦戦した\n",
    "    with output:\n",
    "        print(root_index, changes)\n",
    "    # 自分の場所に応じて\n",
    "    # 階層+1を更新して+2以降を初期化する\n",
    "    curdir = curdir_dict[root_index] \n",
    "    select = grid[:, root_index]\n",
    "    next_path = curdir / select.get_interact_value()\n",
    "\n",
    "    # grid[:, root_index+1].unobserve(handlers[root_index+1])\n",
    "    # if next_path.is_dir():\n",
    "    #     grid[:, root_index+1].options=list_dir(next_path)\n",
    "    # else:\n",
    "    #     grid[:, root_index+1].options=[f\"{next_path} is not dir\"]\n",
    "    # grid[:, root_index+1:].close()\n",
    "    \n",
    "    grid[:, root_index+1] = generate_select(next_path)\n",
    "    grid[:, root_index+1].observe(handlers[root_index+1])\n",
    "    curdir_dict[root_index+1] = next_path\n",
    "\n",
    "handlers = [partial(update_child, root_index=i) for i in range(len(paths))]"
   ]
  },
  {
   "cell_type": "code",
   "execution_count": 159,
   "metadata": {},
   "outputs": [
    {
     "data": {
      "application/vnd.jupyter.widget-view+json": {
       "model_id": "14d12e50735e433b8498cc8b1ff8d6e9",
       "version_major": 2,
       "version_minor": 0
      },
      "text/plain": [
       "GridspecLayout(children=(Select(layout=Layout(grid_area='widget001', min_width='150px', width='150px'), option…"
      ]
     },
     "metadata": {},
     "output_type": "display_data"
    },
    {
     "data": {
      "application/vnd.jupyter.widget-view+json": {
       "model_id": "181a6fcb267f4cff82f10f17d4efad92",
       "version_major": 2,
       "version_minor": 0
      },
      "text/plain": [
       "Output()"
      ]
     },
     "metadata": {},
     "output_type": "display_data"
    }
   ],
   "source": [
    "# gridを作成して登録する\n",
    "grid = GridspecLayout(1, 3)\n",
    "for i, select in enumerate(select_objects):\n",
    "    grid[:, i] = select\n",
    "    grid[:, i].observe(handlers[i])\n",
    "display(grid, output)"
   ]
  },
  {
   "cell_type": "code",
   "execution_count": 162,
   "metadata": {},
   "outputs": [
    {
     "name": "stdout",
     "output_type": "stream",
     "text": [
      ".\n"
     ]
    },
    {
     "data": {
      "application/vnd.jupyter.widget-view+json": {
       "model_id": "a9fd9c1cf6324cc29550e7bc7051aa80",
       "version_major": 2,
       "version_minor": 0
      },
      "text/plain": [
       "Explorer(children=(VBox(children=(Button(button_style='info', description='ipywidget-ws/', layout=Layout(heigh…"
      ]
     },
     "metadata": {},
     "output_type": "display_data"
    },
    {
     "data": {
      "application/vnd.jupyter.widget-view+json": {
       "model_id": "ab344a052d194d8abb9b40cb5985b926",
       "version_major": 2,
       "version_minor": 0
      },
      "text/plain": [
       "Output()"
      ]
     },
     "metadata": {},
     "output_type": "display_data"
    }
   ],
   "source": [
    "class SelectHandler():\n",
    "    pass\n",
    "\n",
    "output = widgets.Output(layour={'border': '1px solid black'})\n",
    "\n",
    "class Explorer(HBox):\n",
    "    def __init__(self):\n",
    "        # 左のサイドバー部分\n",
    "        sidebar = VBox(\n",
    "            [create_expanded_button(Path(folder_path).stem+\"/\",\"info\") for folder_path in favorite_folders],\n",
    "            layout=Layout(width=\"150px\", display = 'flex', align_items = 'stretch',flex_flow = 'column'),\n",
    "            height=\"100%\")\n",
    "        \n",
    "        # タイトルボックス、現在のパスを描画する部分\n",
    "        title_box = Output(layout=Layout(border= '1px solid black',height=\"100px\"))\n",
    "        print(\".\")\n",
    "\n",
    "        @title_box.capture()\n",
    "        def on_value_change(change: Bunch) -> None:\n",
    "            # 値が変更されたイベントを扱う\n",
    "            # label -> value -> indexの順番に変化する\n",
    "            if change['name'] == 'value':\n",
    "                title_box.clear_output()\n",
    "                # 変更前と変更後の値を出力する\n",
    "                old_value = change['old']\n",
    "                new_value = change['new']\n",
    "                print(f'value changed: {old_value} -> {new_value}')\n",
    "                pprint(f'value changed: {change}')\n",
    "\n",
    "        # folder explorerの部分\n",
    "        self.item_layout = Layout(min_width=\"150px\",width=\"150px\")\n",
    "        self.paths = [Path(\".\"),Path(\".git\"),Path(\".git/info\")]\n",
    "        self.handlers = [partial(self._update_child, root_index=i) for i,path in enumerate(self.paths)]\n",
    "        items = [generate_selector(path, callback = self.handlers[i], rows=12, layout=self.item_layout) for i,path in enumerate(self.paths)]\n",
    "        box_layout = Layout(overflow='scroll hidden',\n",
    "            width='auto',\n",
    "            height='100%',\n",
    "            flex_flow='row',\n",
    "            display='flex')\n",
    "        self.carousel = Box(children=items, layout=box_layout)\n",
    "        # folder_content = VBox([carousel], layout=Layout(height='100%', width='100%'))\n",
    "\n",
    "        right_box = VBox([title_box, self.carousel],layout=Layout(width=\"100%\", display = 'flex', align_items = 'stretch',flex_flow = 'column',height=\"100%\"))\n",
    "\n",
    "        super(HBox, self).__init__([sidebar,right_box],layout=Layout(width=\"100%\", display = 'flex', align_items = 'stretch',height=\"300px\"))\n",
    "\n",
    "    @output.capture()\n",
    "    def _update_child(self, changes, root_index): # changesが第一変数で入ってくることに気づかず苦戦した\n",
    "\n",
    "        # 自分の階層より下がある場合まず削除する\n",
    "        if len(self.carousel.children) > root_index + 1:\n",
    "            for i in reversed(range(root_index+1, len(self.carousel.children))):\n",
    "                with output:\n",
    "                    # print(root_index, changes)\n",
    "                    print(i)\n",
    "                child = self.carousel.children[i]\n",
    "                # child.unobserve(self.handlers[i])\n",
    "                child.close()\n",
    "            # del self.handlers[root_index+1:]\n",
    "            del self.paths[root_index+1:]\n",
    "\n",
    "        # 自分の場所に応じて\n",
    "        # 階層+1を更新して+2以降を初期化する\n",
    "        curdir = self.paths[root_index]\n",
    "        select = self.carousel.children[root_index]\n",
    "        next_path = curdir / select.get_interact_value()\n",
    "\n",
    "        self.carousel.children += (generate_selector(next_path, callback = self.handlers[root_index+1], rows=12, layout=self.item_layout),)\n",
    "        self.carousel.children[-1].observe(partial(self._update_child, root_index=root_index+1))\n",
    "        self.paths.append(next_path)\n",
    "\n",
    "explorer = Explorer()\n",
    "display(explorer, output)"
   ]
  },
  {
   "cell_type": "code",
   "execution_count": 146,
   "metadata": {},
   "outputs": [
    {
     "data": {
      "text/plain": [
       "[functools.partial(<bound method Explorer._update_child of Explorer(children=(VBox(children=(Button(button_style='info', description='ipywidget-ws/', layout=Layout(height='auto', width='auto'), style=ButtonStyle()), Button(button_style='info', description='Downloads/', layout=Layout(height='auto', width='auto'), style=ButtonStyle())), layout=Layout(align_items='stretch', display='flex', flex_flow='column', width='150px')), VBox(children=(Output(layout=Layout(border='1px solid black', height='100px')), Box(children=(Select(layout=Layout(min_width='150px', width='150px'), options=('tab_explorer', 'Untitled1', 'make-gui', 'Untitled-1', 'README', 'Pipfile', '.git/', '.vscode/', 'Pipfile', 'x'), rows=12, value='tab_explorer'), Select(layout=Layout(min_width='150px', width='150px'), options=('ORIG_HEAD', 'config', 'objects/', 'HEAD', 'info/', 'logs/', 'description', 'hooks/', 'refs/', 'index', 'packed-refs', 'COMMIT_EDITMSG', 'FETCH_HEAD'), rows=12, value='ORIG_HEAD'), Select(layout=Layout(min_width='150px', width='150px'), options=('exclude',), rows=12, value='exclude')), layout=Layout(display='flex', flex_flow='row', height='100%', overflow='scroll hidden', width='auto'))), layout=Layout(align_items='stretch', display='flex', flex_flow='column', height='100%', width='100%'))), layout=Layout(align_items='stretch', display='flex', height='300px', width='100%'))>, root_index=0),\n",
       " functools.partial(<bound method Explorer._update_child of Explorer(children=(VBox(children=(Button(button_style='info', description='ipywidget-ws/', layout=Layout(height='auto', width='auto'), style=ButtonStyle()), Button(button_style='info', description='Downloads/', layout=Layout(height='auto', width='auto'), style=ButtonStyle())), layout=Layout(align_items='stretch', display='flex', flex_flow='column', width='150px')), VBox(children=(Output(layout=Layout(border='1px solid black', height='100px')), Box(children=(Select(layout=Layout(min_width='150px', width='150px'), options=('tab_explorer', 'Untitled1', 'make-gui', 'Untitled-1', 'README', 'Pipfile', '.git/', '.vscode/', 'Pipfile', 'x'), rows=12, value='tab_explorer'), Select(layout=Layout(min_width='150px', width='150px'), options=('ORIG_HEAD', 'config', 'objects/', 'HEAD', 'info/', 'logs/', 'description', 'hooks/', 'refs/', 'index', 'packed-refs', 'COMMIT_EDITMSG', 'FETCH_HEAD'), rows=12, value='ORIG_HEAD'), Select(layout=Layout(min_width='150px', width='150px'), options=('exclude',), rows=12, value='exclude')), layout=Layout(display='flex', flex_flow='row', height='100%', overflow='scroll hidden', width='auto'))), layout=Layout(align_items='stretch', display='flex', flex_flow='column', height='100%', width='100%'))), layout=Layout(align_items='stretch', display='flex', height='300px', width='100%'))>, root_index=1),\n",
       " functools.partial(<bound method Explorer._update_child of Explorer(children=(VBox(children=(Button(button_style='info', description='ipywidget-ws/', layout=Layout(height='auto', width='auto'), style=ButtonStyle()), Button(button_style='info', description='Downloads/', layout=Layout(height='auto', width='auto'), style=ButtonStyle())), layout=Layout(align_items='stretch', display='flex', flex_flow='column', width='150px')), VBox(children=(Output(layout=Layout(border='1px solid black', height='100px')), Box(children=(Select(layout=Layout(min_width='150px', width='150px'), options=('tab_explorer', 'Untitled1', 'make-gui', 'Untitled-1', 'README', 'Pipfile', '.git/', '.vscode/', 'Pipfile', 'x'), rows=12, value='tab_explorer'), Select(layout=Layout(min_width='150px', width='150px'), options=('ORIG_HEAD', 'config', 'objects/', 'HEAD', 'info/', 'logs/', 'description', 'hooks/', 'refs/', 'index', 'packed-refs', 'COMMIT_EDITMSG', 'FETCH_HEAD'), rows=12, value='ORIG_HEAD'), Select(layout=Layout(min_width='150px', width='150px'), options=('exclude',), rows=12, value='exclude')), layout=Layout(display='flex', flex_flow='row', height='100%', overflow='scroll hidden', width='auto'))), layout=Layout(align_items='stretch', display='flex', flex_flow='column', height='100%', width='100%'))), layout=Layout(align_items='stretch', display='flex', height='300px', width='100%'))>, root_index=2)]"
      ]
     },
     "execution_count": 146,
     "metadata": {},
     "output_type": "execute_result"
    }
   ],
   "source": [
    "explorer.handlers"
   ]
  },
  {
   "cell_type": "code",
   "execution_count": 131,
   "metadata": {},
   "outputs": [
    {
     "data": {
      "text/plain": [
       "(Select(layout=Layout(min_width='150px', width='150px'), options=('tab_explorer', 'Untitled1', 'make-gui', 'Untitled-1', 'README', 'Pipfile', '.git/', '.vscode/', 'Pipfile', 'x'), rows=12, value='tab_explorer'),\n",
       " Select(index=5, layout=Layout(min_width='150px', width='150px'), options=('ORIG_HEAD', 'config', 'objects/', 'HEAD', 'info/', 'logs/', 'description', 'hooks/', 'refs/', 'index', 'packed-refs', 'COMMIT_EDITMSG', 'FETCH_HEAD'), rows=12, value='logs/'),\n",
       " Select(layout=Layout(min_width='150px', width='150px'), options=('exclude',), rows=12, value='exclude'),\n",
       " Select(layout=Layout(min_width='150px', width='150px'), options=('',), rows=10, value=''),\n",
       " Select(layout=Layout(min_width='150px', width='150px'), options=('',), rows=10, value=''),\n",
       " Select(layout=Layout(min_width='150px', width='150px'), options=('',), rows=10, value=''),\n",
       " Select(layout=Layout(min_width='150px', width='150px'), options=('68/', '04/', 'bc/', 'f5/', 'pack/', '45/', '21/', '38/', '00/', 'info/', '62/', 'b0/', '2d/', '25/'), rows=10, value='68/'),\n",
       " Select(layout=Layout(min_width='150px', width='150px'), options=('68/', '04/', 'bc/', 'f5/', 'pack/', '45/', '21/', '38/', '00/', 'info/', '62/', 'b0/', '2d/', '25/'), rows=10, value='68/'),\n",
       " Select(layout=Layout(min_width='150px', width='150px'), options=('68/', '04/', 'bc/', 'f5/', 'pack/', '45/', '21/', '38/', '00/', 'info/', '62/', 'b0/', '2d/', '25/'), rows=10, value='68/'),\n",
       " Select(layout=Layout(min_width='150px', width='150px'), options=('68/', '04/', 'bc/', 'f5/', 'pack/', '45/', '21/', '38/', '00/', 'info/', '62/', 'b0/', '2d/', '25/'), rows=10, value='68/'),\n",
       " Select(layout=Layout(min_width='150px', width='150px'), options=('68/', '04/', 'bc/', 'f5/', 'pack/', '45/', '21/', '38/', '00/', 'info/', '62/', 'b0/', '2d/', '25/'), rows=10, value='68/'),\n",
       " Select(layout=Layout(min_width='150px', width='150px'), options=('exclude',), rows=10, value='exclude'),\n",
       " Select(layout=Layout(min_width='150px', width='150px'), options=('exclude',), rows=10, value='exclude'),\n",
       " Select(layout=Layout(min_width='150px', width='150px'), options=('exclude',), rows=10, value='exclude'),\n",
       " Select(layout=Layout(min_width='150px', width='150px'), options=('exclude',), rows=10, value='exclude'),\n",
       " Select(layout=Layout(min_width='150px', width='150px'), options=('exclude',), rows=10, value='exclude'),\n",
       " Select(layout=Layout(min_width='150px', width='150px'), options=('HEAD', 'refs/'), rows=10, value='HEAD'),\n",
       " Select(layout=Layout(min_width='150px', width='150px'), options=('HEAD', 'refs/'), rows=10, value='HEAD'),\n",
       " Select(layout=Layout(min_width='150px', width='150px'), options=('HEAD', 'refs/'), rows=10, value='HEAD'))"
      ]
     },
     "execution_count": 131,
     "metadata": {},
     "output_type": "execute_result"
    }
   ],
   "source": [
    "explorer.carousel.children"
   ]
  },
  {
   "cell_type": "code",
   "execution_count": null,
   "metadata": {},
   "outputs": [],
   "source": []
  }
 ],
 "metadata": {
  "interpreter": {
   "hash": "acb353badce8f3b88422b621d26193e3fb128a689814bfa2852f965fef069042"
  },
  "kernelspec": {
   "display_name": "Python 3.9.5 64-bit ('ipywidget-ws-eZm2VUjF': pipenv)",
   "name": "python3"
  },
  "language_info": {
   "codemirror_mode": {
    "name": "ipython",
    "version": 3
   },
   "file_extension": ".py",
   "mimetype": "text/x-python",
   "name": "python",
   "nbconvert_exporter": "python",
   "pygments_lexer": "ipython3",
   "version": "3.9.5"
  },
  "orig_nbformat": 4
 },
 "nbformat": 4,
 "nbformat_minor": 2
}
