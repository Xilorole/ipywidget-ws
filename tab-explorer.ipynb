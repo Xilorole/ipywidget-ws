{
 "cells": [
  {
   "cell_type": "code",
   "execution_count": 59,
   "metadata": {},
   "outputs": [],
   "source": [
    "import ipywidgets as widgets\n",
    "from ipywidgets import AppLayout, Button, Layout\n",
    "from pathlib import Path\n",
    "from ipywidgets import GridspecLayout\n",
    "from functools import partial\n",
    "from IPython.display import display\n"
   ]
  },
  {
   "cell_type": "code",
   "execution_count": 57,
   "metadata": {},
   "outputs": [],
   "source": [
    "\n",
    "# ファイルの一覧を取得する\n",
    "def list_dir(path)->tuple:\n",
    "    return tuple(\n",
    "        i.stem+\"/\" if i.is_dir() else i.stem \n",
    "        for i \n",
    "        in Path(path).iterdir()\n",
    "    )\n",
    "\n",
    "# そのパスの一覧を選択肢にいれたselectを作成する\n",
    "def generate_select(path):\n",
    "    return widgets.Select(\n",
    "        options=list_dir(path),\n",
    "        disabled=False,\n",
    "        rows=10\n",
    "    )\n",
    "\n",
    "# パスの一覧\n",
    "paths = [\".\", \".git\", \".git/logs\", \".git/logs/refs\", \".git/logs/refs/remotes\",\".git/logs/refs/remotes/origin\"]\n",
    "paths = [Path(pathstr) for pathstr in paths]\n",
    "\n",
    "# 表示するセレクタの一覧\n",
    "select_objects = list()\n",
    "for i, path in enumerate(paths):\n",
    "    select_objects.append(generate_select(path))\n",
    "\n",
    "# デバッグ用の出力\n",
    "output = widgets.Output(layour={'border': '1px solid black'})\n",
    "\n",
    "# 選択肢が変化した際にその1階層下の選択肢を更新する\n",
    "@output.capture()\n",
    "def update_child(changes, root_index): # changesが第一変数で入ってくることに気づかず苦戦した\n",
    "    if changes[\"name\"] == \"value\":\n",
    "        # 今現在選択しているもののパスを取得する\n",
    "        curdir = paths[root_index] \n",
    "        select = select_objects[root_index]\n",
    "        next_path = curdir / select.get_interact_value()\n",
    "        if root_index < len(paths) - 1: # 一番右の選択をした場合には変更しない\n",
    "            # 今現在選択しているもののパスを取得する\n",
    "            curdir = paths[root_index] \n",
    "            select = select_objects[root_index]\n",
    "            next_path = curdir / select.get_interact_value()\n",
    "            \n",
    "            # 変更することによって\n",
    "            grid[:, root_index+1].unobserve(handlers[root_index+1])\n",
    "            if next_path.is_dir():\n",
    "                grid[:, root_index+1].options=list_dir(next_path)\n",
    "            else:\n",
    "                grid[:, root_index+1].options=[\"\"]\n",
    "            grid[:, root_index+1].observe(handlers[root_index+1])\n",
    "            paths[root_index+1] = next_path\n",
    "        for i in range(root_index + 2, len(paths)):\n",
    "            \n",
    "            # 変更することによって\n",
    "            grid[:, i].unobserve(handlers[i])\n",
    "            grid[:, i].options=[\"\"]\n",
    "            grid[:, i].observe(handlers[i])\n",
    "            paths[i] = \"\"\n",
    "\n",
    "handlers = [partial(update_child, root_index=i) for i in range(len(paths))]"
   ]
  },
  {
   "cell_type": "code",
   "execution_count": 60,
   "metadata": {},
   "outputs": [
    {
     "data": {
      "application/vnd.jupyter.widget-view+json": {
       "model_id": "511cad4cf65c4b9b9c6a99c6c656d51e",
       "version_major": 2,
       "version_minor": 0
      },
      "text/plain": [
       "GridspecLayout(children=(Select(layout=Layout(grid_area='widget001'), options=('make-gui', 'README', 'Pipfile'…"
      ]
     },
     "metadata": {},
     "output_type": "display_data"
    },
    {
     "data": {
      "application/vnd.jupyter.widget-view+json": {
       "model_id": "de56bb17b78e46e7a9742cede1b3dec0",
       "version_major": 2,
       "version_minor": 0
      },
      "text/plain": [
       "Output()"
      ]
     },
     "metadata": {},
     "output_type": "display_data"
    }
   ],
   "source": [
    "# gridを作成して登録する\n",
    "grid = GridspecLayout(1, len(paths))\n",
    "for i, select in enumerate(select_objects):\n",
    "    grid[:, i] = select\n",
    "    grid[:, i].observe(handlers[i])\n",
    "display(grid, output)"
   ]
  },
  {
   "cell_type": "code",
   "execution_count": null,
   "metadata": {},
   "outputs": [],
   "source": []
  }
 ],
 "metadata": {
  "interpreter": {
   "hash": "acb353badce8f3b88422b621d26193e3fb128a689814bfa2852f965fef069042"
  },
  "kernelspec": {
   "display_name": "Python 3.9.5 64-bit ('ipywidget-ws-eZm2VUjF': pipenv)",
   "name": "python3"
  },
  "language_info": {
   "codemirror_mode": {
    "name": "ipython",
    "version": 3
   },
   "file_extension": ".py",
   "mimetype": "text/x-python",
   "name": "python",
   "nbconvert_exporter": "python",
   "pygments_lexer": "ipython3",
   "version": "3.9.5"
  }
 },
 "nbformat": 4,
 "nbformat_minor": 4
}
