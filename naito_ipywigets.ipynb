{
 "cells": [
  {
   "cell_type": "markdown",
   "id": "367c126d-9c11-4209-950a-deef496e580a",
   "metadata": {},
   "source": [
    "## パッケージの読み込み"
   ]
  },
  {
   "cell_type": "code",
   "execution_count": 1,
   "id": "b03c1bf5-0b74-4f82-8808-e58d2f0087a1",
   "metadata": {},
   "outputs": [],
   "source": [
    "import datetime\n",
    "import pandas as pd\n",
    "from IPython.display import HTML, display\n",
    "from ipywidgets import HBox, VBox, interactive, widgets"
   ]
  },
  {
   "cell_type": "markdown",
   "id": "0197d4f8-6004-4b9c-a6f2-d3873e0b5294",
   "metadata": {},
   "source": [
    "## データの読み込み"
   ]
  },
  {
   "cell_type": "code",
   "execution_count": 2,
   "id": "3014055e-307b-4abd-874d-11d17c545d36",
   "metadata": {},
   "outputs": [
    {
     "data": {
      "text/html": [
       "<div>\n",
       "<style scoped>\n",
       "    .dataframe tbody tr th:only-of-type {\n",
       "        vertical-align: middle;\n",
       "    }\n",
       "\n",
       "    .dataframe tbody tr th {\n",
       "        vertical-align: top;\n",
       "    }\n",
       "\n",
       "    .dataframe thead th {\n",
       "        text-align: right;\n",
       "    }\n",
       "</style>\n",
       "<table border=\"1\" class=\"dataframe\">\n",
       "  <thead>\n",
       "    <tr style=\"text-align: right;\">\n",
       "      <th></th>\n",
       "      <th>text</th>\n",
       "      <th>category</th>\n",
       "      <th>subcategory</th>\n",
       "    </tr>\n",
       "  </thead>\n",
       "  <tbody>\n",
       "    <tr>\n",
       "      <th>0</th>\n",
       "      <td>吾輩は猫である。名前はまだ無い。どこで生れたかとんと見当がつかぬ。何でも薄暗いじめじめした所...</td>\n",
       "      <td>None</td>\n",
       "      <td>None</td>\n",
       "    </tr>\n",
       "    <tr>\n",
       "      <th>1</th>\n",
       "      <td>ハリーがまたカードの表を返してみると、驚いたことにダンブルドアの顔が消えていた。「いなくなっ...</td>\n",
       "      <td>None</td>\n",
       "      <td>None</td>\n",
       "    </tr>\n",
       "    <tr>\n",
       "      <th>2</th>\n",
       "      <td>本書の柱であり、世界のイノベーション研究でもおそらく最も重要な経営理論である。「両利き（am...</td>\n",
       "      <td>None</td>\n",
       "      <td>None</td>\n",
       "    </tr>\n",
       "    <tr>\n",
       "      <th>3</th>\n",
       "      <td>岩野くん、ご婚約おめでとうございます。</td>\n",
       "      <td>None</td>\n",
       "      <td>None</td>\n",
       "    </tr>\n",
       "  </tbody>\n",
       "</table>\n",
       "</div>"
      ],
      "text/plain": [
       "                                                text category subcategory\n",
       "0  吾輩は猫である。名前はまだ無い。どこで生れたかとんと見当がつかぬ。何でも薄暗いじめじめした所...     None        None\n",
       "1  ハリーがまたカードの表を返してみると、驚いたことにダンブルドアの顔が消えていた。「いなくなっ...     None        None\n",
       "2  本書の柱であり、世界のイノベーション研究でもおそらく最も重要な経営理論である。「両利き（am...     None        None\n",
       "3                                岩野くん、ご婚約おめでとうございます。     None        None"
      ]
     },
     "execution_count": 2,
     "metadata": {},
     "output_type": "execute_result"
    }
   ],
   "source": [
    "text = [\"吾輩は猫である。名前はまだ無い。どこで生れたかとんと見当がつかぬ。何でも薄暗いじめじめした所でニャーニャー泣いていた事だけは記憶している。吾輩はここで始めて人間というものを見た。しかもあとで聞くとそれは書生という人間中で一番獰悪な種族であったそうだ。この書生というのは時々我々を捕つかまえて煮にて食うという話である。しかしその当時は何という考もなかったから別段恐しいとも思わなかった。ただ彼の掌に載せられてスーと持ち上げられた時何だかフワフワした感じがあったばかりである。掌の上で少し落ちついて書生の顔を見たのがいわゆる人間というものの見始であろう。この時妙なものだと思った感じが今でも残っている。第一毛をもって装飾されべきはずの顔がつるつるしてまるで薬缶だ。その後ご猫にもだいぶ逢あったがこんな片輪には一度も出会わした事がない。のみならず顔の真中があまりに突起している。そうしてその穴の中から時々ぷうぷうと煙を吹く。どうも咽せぽくて実に弱った。これが人間の飲む煙草というものである事はようやくこの頃知った。\", \n",
    "        \"ハリーがまたカードの表を返してみると、驚いたことにダンブルドアの顔が消えていた。「いなくなっちゃったよ！」「そりゃ、一日中その中にいるはずないよ」とロンが言った。「また帰ってくるよ。あ、だめだ。また魔女モルガナだ。もう六枚も持ってるよ……君、欲しい？　これから集めるといいよ」ロンは、蛙チョコの山を開けたそうに、チラチラと見ている。「開けていいよ」ハリーは促した。「でもね、ほら、何て言ったっけ、そう、マグルの世界では、ズーッと写真の中にいるよ」「そう？　じゃ、全然動かないの？　変なの！」ロンは驚いたように言った。\", \n",
    "        \"本書の柱であり、世界のイノベーション研究でもおそらく最も重要な経営理論である。「両利き（ambidexterity）」とは、まるで右手も左手も利き手であるかのようにそれぞれうまく使える状態を意味する。そして、企業活動における両利きは、主に「探索（exploration）」と「深化（exploitation）」という活動が、バランスよく高い次元で取れていることを指す。\", \n",
    "        \"岩野くん、ご婚約おめでとうございます。\"]\n",
    "category = None\n",
    "dict = {\"text\": text, \"category\": category, \"subcategory\": category}\n",
    "df = pd.DataFrame.from_dict(dict)\n",
    "df"
   ]
  },
  {
   "cell_type": "markdown",
   "id": "99f294f1-91ff-4573-b440-409480946904",
   "metadata": {},
   "source": [
    "## 文章を折り返し表示する設定"
   ]
  },
  {
   "cell_type": "markdown",
   "id": "57f0dad3-a233-4ca6-a9b9-d1cefaad7d1a",
   "metadata": {},
   "source": [
    "設定が適用されるのは次回以降に実行されるセルのため、先に実行しておく"
   ]
  },
  {
   "cell_type": "code",
   "execution_count": 3,
   "id": "dc5035f0-eefb-4fbb-bb85-285d26654788",
   "metadata": {},
   "outputs": [],
   "source": [
    "def set_css():\n",
    "  display(HTML('''\n",
    "  <style>\n",
    "    pre {\n",
    "        white-space: pre-wrap;\n",
    "    }\n",
    "  </style>\n",
    "  '''))\n",
    "get_ipython().events.register('pre_run_cell', set_css)"
   ]
  },
  {
   "cell_type": "markdown",
   "id": "6528b0c7-ea31-42a2-9ff7-5049ff79419d",
   "metadata": {},
   "source": [
    "## 表示画面の設定"
   ]
  },
  {
   "cell_type": "code",
   "execution_count": 5,
   "id": "51307a15-77ee-48a0-b3b4-6f8bf3aee050",
   "metadata": {},
   "outputs": [
    {
     "data": {
      "text/html": [
       "\n",
       "  <style>\n",
       "    pre {\n",
       "        white-space: pre-wrap;\n",
       "    }\n",
       "  </style>\n",
       "  "
      ],
      "text/plain": [
       "<IPython.core.display.HTML object>"
      ]
     },
     "metadata": {},
     "output_type": "display_data"
    },
    {
     "name": "stdout",
     "output_type": "stream",
     "text": [
      "【テキストを選択】\n"
     ]
    },
    {
     "data": {
      "application/vnd.jupyter.widget-view+json": {
       "model_id": "67d9bcd0d92247ee951febd4aca106d5",
       "version_major": 2,
       "version_minor": 0
      },
      "text/plain": [
       "HBox(children=(BoundedIntText(value=0, max=4), interactive(children=(Button(description='テキストを表示', style=Butto…"
      ]
     },
     "metadata": {},
     "output_type": "display_data"
    },
    {
     "name": "stdout",
     "output_type": "stream",
     "text": [
      "\n",
      "【カテゴリを選択】\n"
     ]
    },
    {
     "data": {
      "application/vnd.jupyter.widget-view+json": {
       "model_id": "03fffef3e76d4f65add7d6337c5fb0fc",
       "version_major": 2,
       "version_minor": 0
      },
      "text/plain": [
       "HBox(children=(ToggleButtons(layout=Layout(flex='1'), options=('文学作品', '実用書', 'その他'), value='文学作品'), interacti…"
      ]
     },
     "metadata": {},
     "output_type": "display_data"
    },
    {
     "name": "stdout",
     "output_type": "stream",
     "text": [
      "\n",
      "【サブカテゴリを選択】\n"
     ]
    },
    {
     "data": {
      "application/vnd.jupyter.widget-view+json": {
       "model_id": "a67506c7a97c47d18244706dad0f292c",
       "version_major": 2,
       "version_minor": 0
      },
      "text/plain": [
       "HBox(children=(ToggleButtons(layout=Layout(flex='1'), options=('純文学', '大衆文学', 'ビジネス', 'ライフハック', 'お祝いの言葉', 'メモ'…"
      ]
     },
     "metadata": {},
     "output_type": "display_data"
    },
    {
     "name": "stdout",
     "output_type": "stream",
     "text": [
      "\n",
      "【csvへ保存】\n"
     ]
    },
    {
     "data": {
      "application/vnd.jupyter.widget-view+json": {
       "model_id": "d6ec3d14be8045da92d31b929e46db95",
       "version_major": 2,
       "version_minor": 0
      },
      "text/plain": [
       "HBox(children=(Text(value='annotation.csv'), interactive(children=(Button(description='csvに保存', style=ButtonSt…"
      ]
     },
     "metadata": {},
     "output_type": "display_data"
    }
   ],
   "source": [
    "########################################################################\n",
    "# ボタン押下時の挙動を設定\n",
    "########################################################################\n",
    "def show_text():\n",
    "    print(df.loc[output_row_box.value, [\"text\"]].values[0])\n",
    "    print(\"-\"*50)\n",
    "    print(\"現在のカテゴリ\", df.loc[output_row_box.value, [\"category\"]].values[0])\n",
    "    print(\"-\"*50)\n",
    "    print(\"現在のサブカテゴリ\", df.loc[output_row_box.value, [\"subcategory\"]].values[0])\n",
    "    print(\"-\"*50)\n",
    "\n",
    "def change_category():\n",
    "    cat_before = df.loc[output_row_box.value, [\"category\"]].values[0]\n",
    "    df.loc[output_row_box.value, \"category\"] = category_btn.value\n",
    "    print(f\"カテゴリ変更： {cat_before} → {category_btn.value}\")\n",
    "    \n",
    "def change_subcategory():\n",
    "    cat_subbefore = df.loc[output_row_box.value, [\"subcategory\"]].values[0]\n",
    "    df.loc[output_row_box.value, \"subcategory\"] = subcategory_btn.value\n",
    "    print(f\"サブカテゴリ変更： {cat_subbefore} → {subcategory_btn.value}\")\n",
    "\n",
    "def make_csv():\n",
    "    df.to_csv(output_text_box.value)\n",
    "\n",
    "    current_japan_time = datetime.datetime.now(\n",
    "        datetime.timezone(datetime.timedelta(hours=9)))\n",
    "    save_time = current_japan_time.strftime('%Y/%m/%d %H:%M:%S')\n",
    "    print(f\"保存完了:{save_time}\")\n",
    "\n",
    "########################################################################\n",
    "# widgets（テキストボックス、各種ボタン）の作成\n",
    "########################################################################\n",
    "# 表示する行を入力するボックス\n",
    "output_row_box = widgets.BoundedIntText(min=0, max=len(df))\n",
    "\n",
    "# テキスト表示の実行ボタン\n",
    "show_text_btn = interactive(show_text, {'manual': True, 'manual_name': 'テキストを表示'})\n",
    "show_text_btn.manual_button.style.button_color = 'lightblue'\n",
    "\n",
    "# カテゴリの選択肢ボタン\n",
    "categories = [\"文学作品\", \"実用書\", \"その他\"]\n",
    "category_btn = widgets.ToggleButtons(options=categories, disabled=False)\n",
    "\n",
    "# カテゴリ変更の実行ボタン\n",
    "change_category_btn = interactive(change_category, {'manual': True, 'manual_name': 'カテゴリを変更'})\n",
    "change_category_btn.manual_button.style.button_color = 'lightblue'\n",
    "\n",
    "# サブカテゴリの選択肢ボタン\n",
    "subcategories = [\"純文学\", \"大衆文学\", \"ビジネス\", \"ライフハック\", \"お祝いの言葉\", \"メモ\", \"なし\"]\n",
    "subcategory_btn = widgets.ToggleButtons(options=subcategories, disabled=False)\n",
    "\n",
    "# サブカテゴリ変更の実行ボタン\n",
    "change_subcategory_btn = interactive(change_subcategory, {'manual': True, 'manual_name': 'サブカテゴリを変更'})\n",
    "change_subcategory_btn.manual_button.style.button_color = 'lightblue'\n",
    "\n",
    "# csvのファイル名を設定するテキストボックス\n",
    "output_text_box = widgets.Text(\"annotation.csv\")\n",
    "\n",
    "# csv出力の実行ボタン\n",
    "make_csv_btn = interactive(make_csv, {'manual': True, 'manual_name': 'csvに保存'})\n",
    "make_csv_btn.manual_button.style.button_color = 'lightblue'\n",
    "\n",
    "########################################################################\n",
    "# notebook上にwidgetsを表示\n",
    "########################################################################\n",
    "# テキスト選択\n",
    "print(\"【テキストを選択】\")\n",
    "display(HBox(children=[output_row_box, show_text_btn]))\n",
    "\n",
    "# カテゴリ変更\n",
    "print(\"\\r\\n【カテゴリを選択】\")\n",
    "category_btn.layout.flex = '1'\n",
    "change_category_btn.layout.flex = '1'\n",
    "display(HBox(children=[category_btn, change_category_btn]))\n",
    "\n",
    "# サブカテゴリ変更\n",
    "print(\"\\r\\n【サブカテゴリを選択】\")\n",
    "subcategory_btn.layout.flex = '1'\n",
    "change_subcategory_btn.layout.flex = '1'\n",
    "display(HBox(children=[subcategory_btn, change_subcategory_btn]))\n",
    "\n",
    "# csv出力\n",
    "print(\"\\r\\n【csvへ保存】\")\n",
    "display(HBox(children=[output_text_box, make_csv_btn]))"
   ]
  },
  {
   "cell_type": "code",
   "execution_count": null,
   "id": "7309873d-8b20-48a3-85ca-15174dd00f4f",
   "metadata": {},
   "outputs": [],
   "source": []
  }
 ],
 "metadata": {
  "kernelspec": {
   "display_name": "Python 3 (ipykernel)",
   "language": "python",
   "name": "python3"
  },
  "language_info": {
   "codemirror_mode": {
    "name": "ipython",
    "version": 3
   },
   "file_extension": ".py",
   "mimetype": "text/x-python",
   "name": "python",
   "nbconvert_exporter": "python",
   "pygments_lexer": "ipython3",
   "version": "3.7.10"
  }
 },
 "nbformat": 4,
 "nbformat_minor": 5
}
