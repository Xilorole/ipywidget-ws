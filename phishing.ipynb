{
 "cells": [
  {
   "cell_type": "code",
   "execution_count": 1,
   "metadata": {},
   "outputs": [
    {
     "name": "stdout",
     "output_type": "stream",
     "text": [
      "Requirement already satisfied: ipywidgets in c:\\users\\horiy\\appdata\\roaming\\python\\python39\\site-packages (7.6.3)\n",
      "Requirement already satisfied: nbformat>=4.2.0 in c:\\python39\\lib\\site-packages (from ipywidgets) (5.1.3)\n",
      "Requirement already satisfied: traitlets>=4.3.1 in c:\\users\\horiy\\appdata\\roaming\\python\\python39\\site-packages (from ipywidgets) (5.0.5)\n",
      "Requirement already satisfied: jupyterlab-widgets>=1.0.0 in c:\\users\\horiy\\appdata\\roaming\\python\\python39\\site-packages (from ipywidgets) (1.0.0)\n",
      "Requirement already satisfied: ipython>=4.0.0 in c:\\users\\horiy\\appdata\\roaming\\python\\python39\\site-packages (from ipywidgets) (7.23.1)\n",
      "Requirement already satisfied: widgetsnbextension~=3.5.0 in c:\\users\\horiy\\appdata\\roaming\\python\\python39\\site-packages (from ipywidgets) (3.5.1)\n",
      "Requirement already satisfied: ipykernel>=4.5.1 in c:\\users\\horiy\\appdata\\roaming\\python\\python39\\site-packages (from ipywidgets) (5.5.5)\n",
      "Requirement already satisfied: tornado>=4.2 in c:\\users\\horiy\\appdata\\roaming\\python\\python39\\site-packages (from ipykernel>=4.5.1->ipywidgets) (6.1)\n",
      "Requirement already satisfied: jupyter-client in c:\\users\\horiy\\appdata\\roaming\\python\\python39\\site-packages (from ipykernel>=4.5.1->ipywidgets) (6.1.12)\n",
      "Requirement already satisfied: prompt-toolkit!=3.0.0,!=3.0.1,<3.1.0,>=2.0.0 in c:\\users\\horiy\\appdata\\roaming\\python\\python39\\site-packages (from ipython>=4.0.0->ipywidgets) (3.0.18)\n",
      "Requirement already satisfied: pygments in c:\\users\\horiy\\appdata\\roaming\\python\\python39\\site-packages (from ipython>=4.0.0->ipywidgets) (2.9.0)\n",
      "Requirement already satisfied: backcall in c:\\users\\horiy\\appdata\\roaming\\python\\python39\\site-packages (from ipython>=4.0.0->ipywidgets) (0.2.0)\n",
      "Requirement already satisfied: decorator in c:\\users\\horiy\\appdata\\roaming\\python\\python39\\site-packages (from ipython>=4.0.0->ipywidgets) (5.0.9)\n",
      "Requirement already satisfied: matplotlib-inline in c:\\users\\horiy\\appdata\\roaming\\python\\python39\\site-packages (from ipython>=4.0.0->ipywidgets) (0.1.2)\n",
      "Requirement already satisfied: setuptools>=18.5 in c:\\python39\\lib\\site-packages (from ipython>=4.0.0->ipywidgets) (56.0.0)\n",
      "Requirement already satisfied: colorama in c:\\users\\horiy\\appdata\\roaming\\python\\python39\\site-packages (from ipython>=4.0.0->ipywidgets) (0.4.4)\n",
      "Requirement already satisfied: pickleshare in c:\\users\\horiy\\appdata\\roaming\\python\\python39\\site-packages (from ipython>=4.0.0->ipywidgets) (0.7.5)\n",
      "Requirement already satisfied: jedi>=0.16 in c:\\users\\horiy\\appdata\\roaming\\python\\python39\\site-packages (from ipython>=4.0.0->ipywidgets) (0.18.0)\n",
      "Requirement already satisfied: parso<0.9.0,>=0.8.0 in c:\\users\\horiy\\appdata\\roaming\\python\\python39\\site-packages (from jedi>=0.16->ipython>=4.0.0->ipywidgets) (0.8.2)\n",
      "Requirement already satisfied: jupyter-core in c:\\users\\horiy\\appdata\\roaming\\python\\python39\\site-packages (from nbformat>=4.2.0->ipywidgets) (4.7.1)\n",
      "Requirement already satisfied: jsonschema!=2.5.0,>=2.4 in c:\\python39\\lib\\site-packages (from nbformat>=4.2.0->ipywidgets) (3.2.0)\n",
      "Requirement already satisfied: ipython-genutils in c:\\users\\horiy\\appdata\\roaming\\python\\python39\\site-packages (from nbformat>=4.2.0->ipywidgets) (0.2.0)\n",
      "Requirement already satisfied: attrs>=17.4.0 in c:\\python39\\lib\\site-packages (from jsonschema!=2.5.0,>=2.4->nbformat>=4.2.0->ipywidgets) (21.2.0)\n",
      "Requirement already satisfied: pyrsistent>=0.14.0 in c:\\python39\\lib\\site-packages (from jsonschema!=2.5.0,>=2.4->nbformat>=4.2.0->ipywidgets) (0.17.3)\n",
      "Requirement already satisfied: six>=1.11.0 in c:\\python39\\lib\\site-packages (from jsonschema!=2.5.0,>=2.4->nbformat>=4.2.0->ipywidgets) (1.15.0)\n",
      "Requirement already satisfied: wcwidth in c:\\users\\horiy\\appdata\\roaming\\python\\python39\\site-packages (from prompt-toolkit!=3.0.0,!=3.0.1,<3.1.0,>=2.0.0->ipython>=4.0.0->ipywidgets) (0.2.5)\n",
      "Requirement already satisfied: notebook>=4.4.1 in c:\\users\\horiy\\appdata\\roaming\\python\\python39\\site-packages (from widgetsnbextension~=3.5.0->ipywidgets) (6.4.0)\n",
      "Requirement already satisfied: pyzmq>=17 in c:\\users\\horiy\\appdata\\roaming\\python\\python39\\site-packages (from notebook>=4.4.1->widgetsnbextension~=3.5.0->ipywidgets) (22.0.3)\n",
      "Requirement already satisfied: jinja2 in c:\\python39\\lib\\site-packages (from notebook>=4.4.1->widgetsnbextension~=3.5.0->ipywidgets) (3.0.1)\n",
      "Requirement already satisfied: terminado>=0.8.3 in c:\\python39\\lib\\site-packages (from notebook>=4.4.1->widgetsnbextension~=3.5.0->ipywidgets) (0.10.0)\n",
      "Requirement already satisfied: nbconvert in c:\\python39\\lib\\site-packages (from notebook>=4.4.1->widgetsnbextension~=3.5.0->ipywidgets) (6.0.7)\n",
      "Requirement already satisfied: argon2-cffi in c:\\users\\horiy\\appdata\\roaming\\python\\python39\\site-packages (from notebook>=4.4.1->widgetsnbextension~=3.5.0->ipywidgets) (20.1.0)\n",
      "Requirement already satisfied: prometheus-client in c:\\python39\\lib\\site-packages (from notebook>=4.4.1->widgetsnbextension~=3.5.0->ipywidgets) (0.10.1)\n",
      "Requirement already satisfied: Send2Trash>=1.5.0 in c:\\python39\\lib\\site-packages (from notebook>=4.4.1->widgetsnbextension~=3.5.0->ipywidgets) (1.5.0)\n",
      "Requirement already satisfied: python-dateutil>=2.1 in c:\\users\\horiy\\appdata\\roaming\\python\\python39\\site-packages (from jupyter-client->ipykernel>=4.5.1->ipywidgets) (2.8.1)\n",
      "Requirement already satisfied: pywin32>=1.0 in c:\\users\\horiy\\appdata\\roaming\\python\\python39\\site-packages (from jupyter-core->nbformat>=4.2.0->ipywidgets) (300)\n",
      "Requirement already satisfied: pywinpty>=1.1.0 in c:\\python39\\lib\\site-packages (from terminado>=0.8.3->notebook>=4.4.1->widgetsnbextension~=3.5.0->ipywidgets) (1.1.1)\n",
      "Requirement already satisfied: cffi>=1.0.0 in c:\\python39\\lib\\site-packages (from argon2-cffi->notebook>=4.4.1->widgetsnbextension~=3.5.0->ipywidgets) (1.14.5)\n",
      "Requirement already satisfied: pycparser in c:\\python39\\lib\\site-packages (from cffi>=1.0.0->argon2-cffi->notebook>=4.4.1->widgetsnbextension~=3.5.0->ipywidgets) (2.20)\n",
      "Requirement already satisfied: MarkupSafe>=2.0 in c:\\python39\\lib\\site-packages (from jinja2->notebook>=4.4.1->widgetsnbextension~=3.5.0->ipywidgets) (2.0.1)\n",
      "Requirement already satisfied: pandocfilters>=1.4.1 in c:\\python39\\lib\\site-packages (from nbconvert->notebook>=4.4.1->widgetsnbextension~=3.5.0->ipywidgets) (1.4.3)\n",
      "Requirement already satisfied: mistune<2,>=0.8.1 in c:\\python39\\lib\\site-packages (from nbconvert->notebook>=4.4.1->widgetsnbextension~=3.5.0->ipywidgets) (0.8.4)\n",
      "Requirement already satisfied: testpath in c:\\python39\\lib\\site-packages (from nbconvert->notebook>=4.4.1->widgetsnbextension~=3.5.0->ipywidgets) (0.5.0)\n",
      "Requirement already satisfied: entrypoints>=0.2.2 in c:\\python39\\lib\\site-packages (from nbconvert->notebook>=4.4.1->widgetsnbextension~=3.5.0->ipywidgets) (0.3)\n",
      "Requirement already satisfied: bleach in c:\\python39\\lib\\site-packages (from nbconvert->notebook>=4.4.1->widgetsnbextension~=3.5.0->ipywidgets) (3.3.0)\n",
      "Requirement already satisfied: defusedxml in c:\\python39\\lib\\site-packages (from nbconvert->notebook>=4.4.1->widgetsnbextension~=3.5.0->ipywidgets) (0.7.1)\n",
      "Requirement already satisfied: jupyterlab-pygments in c:\\python39\\lib\\site-packages (from nbconvert->notebook>=4.4.1->widgetsnbextension~=3.5.0->ipywidgets) (0.1.2)\n",
      "Requirement already satisfied: nbclient<0.6.0,>=0.5.0 in c:\\python39\\lib\\site-packages (from nbconvert->notebook>=4.4.1->widgetsnbextension~=3.5.0->ipywidgets) (0.5.3)\n",
      "Requirement already satisfied: nest-asyncio in c:\\python39\\lib\\site-packages (from nbclient<0.6.0,>=0.5.0->nbconvert->notebook>=4.4.1->widgetsnbextension~=3.5.0->ipywidgets) (1.5.1)\n",
      "Requirement already satisfied: async-generator in c:\\python39\\lib\\site-packages (from nbclient<0.6.0,>=0.5.0->nbconvert->notebook>=4.4.1->widgetsnbextension~=3.5.0->ipywidgets) (1.10)\n",
      "Requirement already satisfied: packaging in c:\\python39\\lib\\site-packages (from bleach->nbconvert->notebook>=4.4.1->widgetsnbextension~=3.5.0->ipywidgets) (20.9)\n",
      "Requirement already satisfied: webencodings in c:\\python39\\lib\\site-packages (from bleach->nbconvert->notebook>=4.4.1->widgetsnbextension~=3.5.0->ipywidgets) (0.5.1)\n",
      "Requirement already satisfied: pyparsing>=2.0.2 in c:\\python39\\lib\\site-packages (from packaging->bleach->nbconvert->notebook>=4.4.1->widgetsnbextension~=3.5.0->ipywidgets) (2.4.7)\n"
     ]
    },
    {
     "name": "stderr",
     "output_type": "stream",
     "text": [
      "WARNING: Ignoring invalid distribution -p (c:\\python39\\lib\\site-packages)\n",
      "WARNING: Ignoring invalid distribution -p (c:\\python39\\lib\\site-packages)\n",
      "WARNING: Ignoring invalid distribution -ip (c:\\python39\\lib\\site-packages)\n",
      "WARNING: Ignoring invalid distribution - (c:\\python39\\lib\\site-packages)\n",
      "WARNING: Ignoring invalid distribution -p (c:\\python39\\lib\\site-packages)\n",
      "WARNING: Ignoring invalid distribution -p (c:\\python39\\lib\\site-packages)\n",
      "WARNING: Ignoring invalid distribution -ip (c:\\python39\\lib\\site-packages)\n",
      "WARNING: Ignoring invalid distribution - (c:\\python39\\lib\\site-packages)\n",
      "WARNING: Ignoring invalid distribution -p (c:\\python39\\lib\\site-packages)\n",
      "WARNING: Ignoring invalid distribution -p (c:\\python39\\lib\\site-packages)\n",
      "WARNING: Ignoring invalid distribution -ip (c:\\python39\\lib\\site-packages)\n",
      "WARNING: Ignoring invalid distribution - (c:\\python39\\lib\\site-packages)\n",
      "WARNING: Ignoring invalid distribution -p (c:\\python39\\lib\\site-packages)\n",
      "WARNING: Ignoring invalid distribution -p (c:\\python39\\lib\\site-packages)\n",
      "WARNING: Ignoring invalid distribution -ip (c:\\python39\\lib\\site-packages)\n",
      "WARNING: Ignoring invalid distribution - (c:\\python39\\lib\\site-packages)\n",
      "WARNING: You are using pip version 21.2.4; however, version 21.3.1 is available.\n",
      "You should consider upgrading via the 'c:\\python39\\python.exe -m pip install --upgrade pip' command.\n"
     ]
    }
   ],
   "source": [
    "!pip install ipywidgets"
   ]
  },
  {
   "cell_type": "code",
   "execution_count": 1,
   "metadata": {},
   "outputs": [],
   "source": [
    "import ipywidgets as widgets\n",
    "# import matplotlib.pyplot as plt\n",
    "from IPython.display import display\n",
    "import time"
   ]
  },
  {
   "cell_type": "markdown",
   "metadata": {},
   "source": [
    "# フィッシング詐欺を作ろう!!"
   ]
  },
  {
   "cell_type": "code",
   "execution_count": 2,
   "metadata": {},
   "outputs": [],
   "source": [
    "output=widgets.Output() #オブジェクト表示ゾーンの作成\n",
    "\n",
    "class gui_question():\n",
    "    def __init__(self,options,text):\n",
    "        self.RadioButton=widgets.RadioButtons(\n",
    "            options=options\n",
    "        )\n",
    "        self.button=widgets.Button(description='提出')\n",
    "        self.text=text\n",
    "\n",
    "    def display(self,_=None): #button.on_clickは,｢引数1つの関数｣を引数として要請しているため\n",
    "        output.clear_output()\n",
    "        with output:\n",
    "            print(self.text) \n",
    "            display(self.RadioButton, self.button)\n",
    "        display(output)\n",
    "\n",
    "class gui_purchase():\n",
    "    def __init__(self):\n",
    "        #↓ iphoneの購入ページのhtml\n",
    "        self.html=widgets.HTML(\n",
    "            value=\"\"\"<img src=\"https://m.media-amazon.com/images/I/81x1JO5euaL._AC_UL320_.jpg\" srcset=\"https://m.media-amazon.com/images/I/81x1JO5euaL._AC_UL320_.jpg 1x, https://m.media-amazon.com/images/I/81x1JO5euaL._AC_UL480_FMwebp_QL65_.jpg 1.5x, https://m.media-amazon.com/images/I/81x1JO5euaL._AC_UL640_FMwebp_QL65_.jpg 2x, https://m.media-amazon.com/images/I/81x1JO5euaL._AC_UL800_FMwebp_QL65_.jpg 2.5x, https://m.media-amazon.com/images/I/81x1JO5euaL._AC_UL960_FMwebp_QL65_.jpg 3x\" alt=\"Apple iPhone 17 Max Pro 64GB ブラック SIMフリー (整備済み品)\" data-image-index=\"1\" data-image-load=\"\" data-image-latency=\"s-product-image\" data-image-source-density=\"1\"></div></a></span><div class=\"a-section a-spacing-none\"><div class=\"a-section a-spacing-none a-spacing-top-small\"><h2 class=\"a-size-mini a-spacing-none a-color-base s-line-clamp-2\"><a class=\"a-link-normal a-text-normal\" target=\"_blank\" href=\"/dp/B08R843S4T/?tag=nikukoppun-22\"><span class=\"a-size-base a-color-base a-text-normal\">Apple iPhone 17 Max Pro 64GB ブラック SIMフリー (整備済み品)</span> </a> </h2></div><div class=\"a-section a-spacing-none a-spacing-top-micro\"><div class=\"a-row a-size-small\"><span aria-label=\"5つ星のうち4.1\"><span class=\"a-declarative\" data-action=\"a-popover\" data-a-popover=\"{&quot;closeButton&quot;:false,&quot;closeButtonLabel&quot;:&quot;&quot;,&quot;position&quot;:&quot;triggerBottom&quot;,&quot;popoverLabel&quot;:&quot;&quot;,&quot;url&quot;:&quot;/review/widgets/average-customer-review/popover/ref=acr_search__popover?ie=UTF8&amp;asin=B08R843S4T&amp;ref=acr_search__popover&amp;contextId=search&quot;}\"><a href=\"javascript:void(0)\" role=\"button\" class=\"a-popover-trigger a-declarative\"><i class=\"a-icon a-icon-star-small a-star-small-4 aok-align-bottom\"><span class=\"a-icon-alt\">5つ星のうち4.1</span></i><i class=\"a-icon a-icon-popover\"></i></a></span> </span><span aria-label=\"330\"><a class=\"a-link-normal\" target=\"_blank\" href=\"/dp/B08R843S4T/?tag=nikukoppun-22#customerReviews\"><span class=\"a-size-base\">330</span> </a> </span></div></div><div class=\"a-section a-spacing-none a-spacing-top-small\"><div class=\"a-row a-size-base a-color-base\"><a class=\"a-size-base a-link-normal a-text-normal\" target=\"_blank\" href=\"/dp/B08R843S4T/?tag=nikukoppun-22\"><span class=\"a-price\" data-a-size=\"m\" data-a-color=\"price\"><span class=\"a-offscreen\"></span><span aria-hidden=\"true\"><span class=\"a-price-symbol\"></span><span class=\"a-price-whole\">￥100</span></span></span> </a> </div></div><div class=\"a-section a-spacing-none a-spacing-top-micro\"><div class=\"a-row a-size-base a-color-secondary s-align-children-center\"><div class=\"a-row s-align-children-center\"><span aria-label=\"2021/10/25 月曜日～2021/10/26 火曜日 にお届け\"><span class=\"a-text-bold\">2021/10/25 月曜日</span><span>～</span><span class=\"a-text-bold\">2021/10/26 火曜日</span><span> にお届け</span></span></div><div class=\"a-row\"><span aria-label=\"配送料無料\"><span>配送料無料</span></span></div></div><div class=\"a-row a-size-base a-color-secondary\"><span aria-label=\"残り3点 ご注文はお早めに\"><span class=\"a-size-base a-color-price\">残り3点 ご注文はお早めに</span></span></div></div><div class=\"a-section a-spacing-none a-spacing-top-mini\"><div class=\"a-row a-size-base a-color-secondary\"><span class=\"a-size-base a-color-secondary\"></span><br><span class=\"a-color-price\"></span><span class=\"a-letter-space\"></span>\"\"\"\n",
    "        )\n",
    "        \n",
    "        name=widgets.HBox([widgets.Text(description=\"姓\"),widgets.Text(description=\"名\")])\n",
    "        mail=widgets.Text(description=\"メール\")\n",
    "        card=widgets.HBox([widgets.IntText(description='カード番号',value=None),widgets.IntText(),widgets.IntText(),widgets.IntText()])\n",
    "        button=widgets.Button(description='購入')\n",
    "        self.form=widgets.VBox([name,mail,card,button])\n",
    "\n",
    "    def display(self,score):\n",
    "        output.clear_output()\n",
    "        \n",
    "        # 無駄なロード画面\n",
    "        bar=widgets.IntProgress(\n",
    "            value=0,\n",
    "            min=0,\n",
    "            max=10,\n",
    "            description='Loading:'\n",
    "        )\n",
    "        with output:\n",
    "            print(\"答えを送信中\")#本当は送信していない\n",
    "            display(bar)\n",
    "        display(output)\n",
    "        for i in range(11):\n",
    "            time.sleep(0.1)\n",
    "            bar.value=i\n",
    "        \n",
    "        #アンケートフォーム\n",
    "        output.clear_output()\n",
    "        with output:\n",
    "            print(f\"おめでとうございます!!\\n({score}/3)の正解をしました。\\n10分間だけ有効なiPhoneがもらえる特別なオファーがあります\")\n",
    "            display(widgets.VBox([self.html,self.form]))"
   ]
  },
  {
   "cell_type": "code",
   "execution_count": 3,
   "metadata": {},
   "outputs": [
    {
     "data": {
      "application/vnd.jupyter.widget-view+json": {
       "model_id": "90fb1598e40741fbb5a689790fd1d567",
       "version_major": 2,
       "version_minor": 0
      },
      "text/plain": [
       "Output()"
      ]
     },
     "metadata": {},
     "output_type": "display_data"
    }
   ],
   "source": [
    "text_q1=\"\"\"ARISEメンバーシップビジターリワード\n",
    "\n",
    "ARISEのあなた、当選おめでとうございます！（1）件のギフトが当選しました！\n",
    "「ありがとう」を込めてApple iPhone 17 Max Proが当たる幸運なチャンスを差し上げます！\n",
    "他の幸運なユーザーに商品を受け取る権利が移行するまで1分30秒です！幸運をお祈りします！\n",
    "商品を受け取るには3つの簡単な質問にお答え下さい。\n",
    "\n",
    "問1/3:あなたが日頃使うブラウザの種類は?\n",
    "\"\"\"\n",
    "option_q1=['chrome', 'internet explorar', 'lunascape']\n",
    "q1=gui_question(option_q1,text_q1)\n",
    "\n",
    "text_q2=\"問2/3:Googleの創立者は?\"\n",
    "option_q2=['マーク・ザッカーバーグ', 'ラリー・ペイジ', '家中仁']\n",
    "q2=gui_question(option_q2,text_q2)\n",
    "\n",
    "text_q3=\"問3/3:アメリカの今の大統領は誰?\"\n",
    "option_q3=['アーノルドシュワルツネガー', 'バイデン', '内藤宏明']\n",
    "q3=gui_question(option_q3,text_q3)\n",
    "\n",
    "purchase_page=gui_purchase()\n",
    "\n",
    "q1.display()\n",
    "q1.button.on_click(q2.display)\n",
    "q2.button.on_click(q3.display)\n",
    "\n",
    "def purchase_page_func(_):\n",
    "    # score=0\n",
    "    score=(q1.RadioButton.value=='chrome')+(q2.RadioButton.value=='ラリー・ペイジ')+(q3.RadioButton.value==\"バイデン\")\n",
    "    purchase_page.display(score)\n",
    "q3.button.on_click(purchase_page_func)\n"
   ]
  }
 ],
 "metadata": {
  "accelerator": "TPU",
  "colab": {
   "collapsed_sections": [],
   "name": "SetTag.ipynb",
   "provenance": []
  },
  "interpreter": {
   "hash": "63fd5069d213b44bf678585dea6b12cceca9941eaf7f819626cde1f2670de90d"
  },
  "kernelspec": {
   "display_name": "Python 3.9.5 64-bit",
   "name": "python3"
  },
  "language_info": {
   "codemirror_mode": {
    "name": "ipython",
    "version": 3
   },
   "file_extension": ".py",
   "mimetype": "text/x-python",
   "name": "python",
   "nbconvert_exporter": "python",
   "pygments_lexer": "ipython3",
   "version": "3.9.5"
  },
  "metadata": {
   "interpreter": {
    "hash": "63fd5069d213b44bf678585dea6b12cceca9941eaf7f819626cde1f2670de90d"
   }
  }
 },
 "nbformat": 4,
 "nbformat_minor": 4
}
